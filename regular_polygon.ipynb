{
  "nbformat": 4,
  "nbformat_minor": 0,
  "metadata": {
    "colab": {
      "provenance": [],
      "include_colab_link": true
    },
    "kernelspec": {
      "name": "python3",
      "display_name": "Python 3"
    },
    "language_info": {
      "name": "python"
    }
  },
  "cells": [
    {
      "cell_type": "markdown",
      "metadata": {
        "id": "view-in-github",
        "colab_type": "text"
      },
      "source": [
        "<a href=\"https://colab.research.google.com/github/sanya-mahajan/Curvetopia/blob/main/regular_polygon.ipynb\" target=\"_parent\"><img src=\"https://colab.research.google.com/assets/colab-badge.svg\" alt=\"Open In Colab\"/></a>"
      ]
    },
    {
      "cell_type": "code",
      "source": [
        "import cv2\n",
        "import numpy as np\n",
        "from google.colab.patches import cv2_imshow\n",
        "\n",
        "def adjust_polygon_vertices(approx_polygon, num_sides):\n",
        "    \"\"\"Adjust the vertices of the polygon to form a regular polygon while retaining the original vertex positions as close as possible.\"\"\"\n",
        "    # Calculate the centroid of the original polygon\n",
        "    M = cv2.moments(approx_polygon)\n",
        "    if M['m00'] == 0:\n",
        "        M['m00'] = 1  # Avoid division by zero\n",
        "    center = (M['m10'] / M['m00'], M['m01'] / M['m00'])\n",
        "\n",
        "    # Compute the radius as the average distance from the centroid to each vertex\n",
        "    distances = [np.linalg.norm(np.array(vertex[0]) - np.array(center)) for vertex in approx_polygon]\n",
        "    radius = np.mean(distances)\n",
        "\n",
        "    # Calculate the angles of the original vertices relative to the centroid\n",
        "    angles = [np.arctan2(vertex[0][1] - center[1], vertex[0][0] - center[0]) for vertex in approx_polygon]\n",
        "\n",
        "    # Sort vertices by angle (in counterclockwise order)\n",
        "    sorted_vertices = sorted(zip(angles, approx_polygon), key=lambda x: x[0])\n",
        "\n",
        "    # Generate the new vertices for the regular polygon\n",
        "    adjusted_polygon = []\n",
        "    for i, (angle, original_vertex) in enumerate(sorted_vertices):\n",
        "        new_vertex = (\n",
        "            int(center[0] + radius * np.cos(angle)),\n",
        "            int(center[1] + radius * np.sin(angle))\n",
        "        )\n",
        "        adjusted_polygon.append(new_vertex)\n",
        "\n",
        "    return np.array(adjusted_polygon, np.int32)\n",
        "\n",
        "# Load the image\n",
        "image = cv2.imread('/content/bad hexagon.png')\n",
        "gray = cv2.cvtColor(image, cv2.COLOR_BGR2GRAY)\n",
        "\n",
        "# Apply Gaussian Blur to the grayscale image to reduce noise\n",
        "blurred = cv2.GaussianBlur(gray, (9, 9), 2)\n",
        "\n",
        "# Use Canny Edge Detection\n",
        "edges = cv2.Canny(blurred, 50, 150)\n",
        "\n",
        "# Find contours in the edged image\n",
        "contours, _ = cv2.findContours(edges, cv2.RETR_EXTERNAL, cv2.CHAIN_APPROX_SIMPLE)\n",
        "\n",
        "# If there are no contours, exit\n",
        "if not contours:\n",
        "    print(\"No contours found\")\n",
        "else:\n",
        "    # Find the largest contour based on area\n",
        "    largest_contour = max(contours, key=cv2.contourArea)\n",
        "    image = cv2.polylines(image, [largest_contour], True, (0, 0, 255), 3)\n",
        "    # Approximate the contour to a polygon\n",
        "    epsilon = 0.02 * cv2.arcLength(largest_contour, True)\n",
        "    approx_polygon = cv2.approxPolyDP(largest_contour, epsilon, True)\n",
        "\n",
        "    # Number of sides of the polygon\n",
        "    num_sides = len(approx_polygon)\n",
        "\n",
        "    # Adjust the vertices to form a regular polygon\n",
        "    adjusted_polygon = adjust_polygon_vertices(approx_polygon, num_sides)\n",
        "\n",
        "    # Draw the adjusted regular polygon on the original image\n",
        "    adjusted_polygon = adjusted_polygon.reshape((-1, 1, 2))\n",
        "    cv2.polylines(image, [adjusted_polygon], isClosed=True, color=(0, 255, 0), thickness=2)\n",
        "\n",
        "    # Display the original image with the best-fit regular polygon\n",
        "    cv2_imshow( image)\n",
        "    # cv2.waitKey(0)\n",
        "    # cv2.destroyAllWindows()\n"
      ],
      "metadata": {
        "colab": {
          "base_uri": "https://localhost:8080/",
          "height": 375
        },
        "id": "kPYAryrr8r5_",
        "outputId": "df764131-d2d3-4c7e-b75e-36dc4eb6e353"
      },
      "execution_count": null,
      "outputs": [
        {
          "output_type": "display_data",
          "data": {
            "text/plain": [
              "<PIL.Image.Image image mode=RGB size=318x358>"
            ],
            "image/png": "[encoded data removed]"
          },
          "metadata": {}
        }
      ]
    },
    {
      "cell_type": "code",
      "source": [
        "adjusted_polygon[0][0]"
      ],
      "metadata": {
        "id": "fLiAFFtW9DYn",
        "colab": {
          "base_uri": "https://localhost:8080/"
        },
        "outputId": "607825f2-ca29-4041-cd53-45e0c935b222"
      },
      "execution_count": null,
      "outputs": [
        {
          "output_type": "execute_result",
          "data": {
            "text/plain": [
              "array([93, 87], dtype=int32)"
            ]
          },
          "metadata": {},
          "execution_count": 6
        }
      ]
    },
    {
      "cell_type": "code",
      "source": [],
      "metadata": {
        "id": "bWVyZORtKLbr"
      },
      "execution_count": null,
      "outputs": []
    }
  ]
}